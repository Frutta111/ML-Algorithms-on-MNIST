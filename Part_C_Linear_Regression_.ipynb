{
  "cells": [
    {
      "cell_type": "markdown",
      "metadata": {
        "id": "view-in-github",
        "colab_type": "text"
      },
      "source": [
        "<a href=\"https://colab.research.google.com/github/Frutta111/ML-Algorithms-on-MNIST/blob/main/Part_C_Linear_Regression_.ipynb\" target=\"_parent\"><img src=\"https://colab.research.google.com/assets/colab-badge.svg\" alt=\"Open In Colab\"/></a>"
      ]
    },
    {
      "cell_type": "markdown",
      "source": [
        "#**Part C - Linear Regression**"
      ],
      "metadata": {
        "id": "-6SuVknqBbnv"
      }
    },
    {
      "cell_type": "markdown",
      "metadata": {
        "id": "2bu1rrOU6kE1"
      },
      "source": [
        "# **Getting depnedncies (and data!)**\n",
        "\n",
        "\n"
      ]
    },
    {
      "cell_type": "markdown",
      "metadata": {
        "id": "mUEMcIXc88Ai"
      },
      "source": [
        "## Import relevant libraries\n",
        "\n"
      ]
    },
    {
      "cell_type": "code",
      "execution_count": null,
      "metadata": {
        "id": "S5DODiA-7U9c"
      },
      "outputs": [],
      "source": [
        "import pandas as pd\n",
        "import numpy as np\n",
        "import matplotlib.pyplot as plt\n",
        "from sklearn.metrics import confusion_matrix\n",
        "import seaborn as sns\n",
        "from datetime import timedelta\n",
        "import time\n"
      ]
    },
    {
      "cell_type": "markdown",
      "metadata": {
        "id": "oj6-BHzc7qbG"
      },
      "source": [
        "##Fetch MNIST Dataset\n",
        "The MNIST dataset serves as a cornerstone in the domain of digit classification. It comprises a collection of 28x28 pixel grayscale images, each depicting a handwritten digit (0 through 9). Originating from the National Institute of Standards and Technology (NIST).\n",
        "Key Characteristics of MNIST:\n",
        "- **Image Size:** Each image is 28 pixels in height and 28 pixels in width, resulting in a total of 784 pixels per image.\n",
        "- **Grayscale Images**: The images are grayscale, with each pixel represented by a single intensity value ranging from 0 (black) to 255 (white).\n",
        "- **Handwritten Digits**: The dataset primarily consists of handwritten digits, introducing variations in writing styles, slants, and sizes.\n",
        "- **Labeling**: Each image is associated with a label (digit from 0 to 9), creating a ten-class classification problem."
      ]
    },
    {
      "cell_type": "code",
      "execution_count": null,
      "metadata": {
        "colab": {
          "base_uri": "https://localhost:8080/"
        },
        "id": "I7AKApsf8ssk",
        "outputId": "1366c266-9a83-41b3-8ffc-69f66b638bca"
      },
      "outputs": [
        {
          "output_type": "stream",
          "name": "stderr",
          "text": [
            "/usr/local/lib/python3.10/dist-packages/sklearn/datasets/_openml.py:968: FutureWarning: The default value of `parser` will change from `'liac-arff'` to `'auto'` in 1.4. You can set `parser='auto'` to silence this warning. Therefore, an `ImportError` will be raised from 1.4 if the dataset is dense and pandas is not installed. Note that the pandas parser may return different data types. See the Notes Section in fetch_openml's API doc for details.\n",
            "  warn(\n"
          ]
        }
      ],
      "source": [
        "from sklearn.datasets import fetch_openml\n",
        "\n",
        "# Fetch MNIST dataset\n",
        "mnist = fetch_openml('mnist_784', version=1)\n",
        "# Access features (pixel values) and labels\n",
        "X, y = mnist['data'], mnist['target']"
      ]
    },
    {
      "cell_type": "markdown",
      "metadata": {
        "id": "5GJYXb3ek4nu"
      },
      "source": [
        "#**Data Preparation**"
      ]
    },
    {
      "cell_type": "markdown",
      "metadata": {
        "id": "q41Mq9pe80yy"
      },
      "source": [
        "##Data Partitioning\n",
        "Divide the original MNIST dataset into two subsets: a training set containing 60,000 images and a test set containing 10,000 images. The 'train_test_split' function from the scikit-learn module can be employed for this purpose."
      ]
    },
    {
      "cell_type": "code",
      "execution_count": null,
      "metadata": {
        "colab": {
          "base_uri": "https://localhost:8080/"
        },
        "id": "0K7qGokZlHJG",
        "outputId": "748325c2-b67a-4c7d-ef8f-dd0c44e2171f"
      },
      "outputs": [
        {
          "output_type": "stream",
          "name": "stdout",
          "text": [
            "The size of X_train is: (60000, 784)\n",
            "The size of X_test is: (10000, 784)\n"
          ]
        }
      ],
      "source": [
        "from sklearn.model_selection import train_test_split\n",
        "X_train, X_test, y_train, y_test = train_test_split(X, y, test_size=10000, random_state=42)\n",
        "print (\"The size of X_train is:\", X_train.shape)\n",
        "print (\"The size of X_test is:\", X_test.shape)\n",
        "\n",
        "# Normalize features values\n",
        "X_train = X_train / 255.0\n",
        "X_test = X_test / 255.0"
      ]
    },
    {
      "cell_type": "markdown",
      "metadata": {
        "id": "aTiHfzjimkKJ"
      },
      "source": [
        "##Label and Image Transformation\n",
        "**One-Hot Vector Representation**: transform the digit labels into one-hot vectors. Each label, such as '5', will be represented as [0,0,0,0,0,1,0,0,0,0], and '0' will correspond to [1,0,0,0,0,0,0,0,0,0].\n",
        "\n"
      ]
    },
    {
      "cell_type": "code",
      "execution_count": null,
      "metadata": {
        "colab": {
          "base_uri": "https://localhost:8080/"
        },
        "id": "bJQjG8233NGD",
        "outputId": "67415a07-181e-4d37-a3f1-698caf7a0cc8"
      },
      "outputs": [
        {
          "output_type": "stream",
          "name": "stdout",
          "text": [
            "(60000, 10)\n"
          ]
        }
      ],
      "source": [
        "labels_train = y_train.astype(int)\n",
        "labels_test = y_test.astype(int)\n",
        "\n",
        "# Number of classes (digits 0-9)\n",
        "num_classes = 10\n",
        "\n",
        "# Transform labels to one-hot vectors\n",
        "one_hot_labels_train = np.zeros((len(labels_train), num_classes))\n",
        "one_hot_labels_train[np.arange(len(labels_train)), labels_train] = 1\n",
        "\n",
        "one_hot_labels_test = np.zeros((len(labels_test), num_classes))\n",
        "one_hot_labels_test[np.arange(len(labels_test)), labels_test] = 1\n",
        "\n",
        "print(one_hot_labels_train.shape)\n"
      ]
    },
    {
      "cell_type": "code",
      "source": [],
      "metadata": {
        "id": "zln2Yi4aU_h3"
      },
      "execution_count": null,
      "outputs": []
    },
    {
      "cell_type": "markdown",
      "metadata": {
        "id": "lfJ8iSS_nSPW"
      },
      "source": [
        "**Flattening Images**: Flatten the input images to create a vector representation. Each original image, initially of size 28x28 pixels, should be transformed into a vector of size 785x1. The first component of this vector represents the bias term and is set to 1."
      ]
    },
    {
      "cell_type": "code",
      "execution_count": null,
      "metadata": {
        "colab": {
          "base_uri": "https://localhost:8080/"
        },
        "id": "MbijYR_XpNnM",
        "outputId": "625736d1-3c12-4e56-a6a6-79a967cb08bb"
      },
      "outputs": [
        {
          "output_type": "stream",
          "name": "stdout",
          "text": [
            "Flattened Training Data Shape: (60000, 785)\n",
            "Flattened Test Data Shape: (10000, 785)\n"
          ]
        }
      ],
      "source": [
        "# Flattening input images and adding bias term\n",
        "num_samples_train = X_train.shape[0]\n",
        "num_samples_test = X_test.shape[0]\n",
        "image_size = X_train.shape[1]  # Image size before flattening (28x28 = 784 pixels)\n",
        "\n",
        "# Flatten training set\n",
        "X_train_flattened = np.c_[np.ones((num_samples_train, 1)), X_train]  # Add bias term (column of 1s)\n",
        "X_train_flattened = X_train_flattened.reshape(num_samples_train, image_size + 1)  # Reshape to 785x1\n",
        "\n",
        "# Flatten test set\n",
        "X_test_flattened = np.c_[np.ones((num_samples_test, 1)), X_test]  # Add bias term (column of 1s)\n",
        "X_test_flattened = X_test_flattened.reshape(num_samples_test, image_size + 1)  # Reshape to 785x1\n",
        "\n",
        "# Display the shape of the flattened datasets\n",
        "print(\"Flattened Training Data Shape:\", X_train_flattened.shape)\n",
        "print(\"Flattened Test Data Shape:\", X_test_flattened.shape)\n"
      ]
    },
    {
      "cell_type": "markdown",
      "source": [
        "### Model evaluation and performance visualization utilities"
      ],
      "metadata": {
        "id": "EzC1Yc2bk8eY"
      }
    },
    {
      "cell_type": "code",
      "source": [
        "# Create confusion matrix for multinomial classification\n",
        "\n",
        "def multi_confusion_matrix(y_true, y_pred, class_labels=None, figsize=(18, 6), title=\"Confusion Matrix\"):\n",
        "    conf_matrix = confusion_matrix(y_true, y_pred)\n",
        "\n",
        "    # Calculate metrics: Accuracy\n",
        "    total = np.sum(conf_matrix)\n",
        "    accuracy = np.trace(conf_matrix) / float(total)\n",
        "\n",
        "    # Plot confusion matrix using seaborn heatmap\n",
        "    plt.figure(figsize=figsize)\n",
        "    sns.heatmap(conf_matrix, annot=True, cmap='Blues', fmt='d',\n",
        "                xticklabels=class_labels, yticklabels=class_labels)\n",
        "    plt.xlabel('Predicted')\n",
        "    plt.ylabel('True')\n",
        "    plt.title(f'{title}\\nAccuracy={accuracy*100:.2f}%')\n",
        "    plt.show()\n",
        "\n",
        "# Create confusion matrix for per digit using heatmap\n",
        "def heat_digit_confusion_matrix(y_true, y_pred, num_classes=10):\n",
        "    for digit in range(num_classes):\n",
        "        # Create confusion matrix\n",
        "        conf_matrix = confusion_matrix(y_true[:, digit], y_pred[:, digit])\n",
        "\n",
        "        # Calculate metrics: Accuracy, TPR, TNR\n",
        "        total = np.sum(conf_matrix)\n",
        "        accuracy = np.trace(conf_matrix) / float(total)  # ACC = (TP + TN) / (TP + TN + FP + FN)\n",
        "        tpr = conf_matrix[1, 1] / float(np.sum(conf_matrix[1, :]))  # TPR = TP / (TP + FN)\n",
        "        tnr = conf_matrix[0, 0] / float(np.sum(conf_matrix[0, :]))  # TNR = TN / (TN + FP)\n",
        "\n",
        "        # Plot confusion matrix using seaborn heatmap\n",
        "        sns.heatmap(conf_matrix, annot=True, cmap='Blues', fmt='d',\n",
        "                    xticklabels=['Class 0', 'Class 1'],\n",
        "                    yticklabels=['Class 0', 'Class 1'],\n",
        "                    cbar=digit == num_classes - 1)  # Show colorbar only for the last subplot\n",
        "        plt.xlabel('Predicted')\n",
        "        plt.ylabel('True')\n",
        "        plt.title(f'Digit {digit}\\nAcc={accuracy*100:.2f}%, TPR={tpr*100:.2f}%, TNR={tnr*100:.2f}%')\n",
        "        plt.show()\n",
        "\n",
        "# Create confusion matrix for per digit - in a compact display\n",
        "def digit_confusion_matrix(y_true, y_pred, num_classes=10):\n",
        "    for digit in range(num_classes):\n",
        "        # Create confusion matrix\n",
        "        conf_matrix = confusion_matrix(y_true[:, digit], y_pred[:, digit])\n",
        "\n",
        "        # Calculate metrics: Accuracy, TPR, TNR\n",
        "        total = np.sum(conf_matrix)\n",
        "        accuracy = np.trace(conf_matrix) / float(total)  # ACC = (TP + TN) / (TP + TN + FP + FN)\n",
        "        tpr = conf_matrix[1, 1] / float(np.sum(conf_matrix[1, :]))  # TPR = TP / (TP + FN)\n",
        "        tnr = conf_matrix[0, 0] / float(np.sum(conf_matrix[0, :]))  # TNR = TN / (TN + FP)\n",
        "\n",
        "        print(f'\\nDigit {digit}: Acc={accuracy*100:.2f}%, TPR={tpr*100:.2f}%, TNR={tnr*100:.2f}%')\n",
        "        print(conf_matrix)"
      ],
      "metadata": {
        "id": "7ViemZI4jsx0"
      },
      "execution_count": null,
      "outputs": []
    },
    {
      "cell_type": "markdown",
      "source": [
        "#**Part C - Linear Regression**\n",
        "\n",
        "I implemented the linear regression model for the digit classification problem as follows. For each digit, I created a one-hot vector with values of +1 and -1 to use the One-vs-All method. I applied the linear regression model to each digit separately in a mutually independent manner. Classification for each digit was done by applying the sign function to the prediction. Multi-class classification was performed by choosing the digit for which the highest prediction was obtained. This operating method is very similar to the operation method of the perceptron model.\n",
        "\n",
        "To overcome the singularity issue of the matrix (X^tX), I calculated the pseudo-inverse matrix using the np.linalg.pinv function, which computes the Moore-Penrose pseudo-inverse of a Hermitian matrix. The loss function in linear regression is the least squares function.\n",
        "\n",
        "The use of the linear regression model is not particularly suitable in this case because the model is suitable for cases where the target variable takes continuous values, but sometimes the model performs well. The advantage of the model lies in the simplicity of complexity as the solution to the least squares problem is analytical and unique in the case where the matrix (X^tX) is invertible.\n",
        "\n",
        "To evaluate the model's quality and performance, I conducted an analysis in three parts:\n",
        "1) Calculating the loss function on the training and test data for each digit separately, and computing the accuracy rate and confusion matrix for multi-class classification.\n",
        "2) Calculating confusion matrices and metrics for each digit separately obtained from the prediction method using multi-class classification.\n",
        "3) Computing confusion matrices for each digit obtained from the binary classification method."
      ],
      "metadata": {
        "id": "OeCSy1DvMGxg"
      }
    },
    {
      "cell_type": "code",
      "source": [
        "num_features = X_train_flattened.shape[1]\n",
        "num_classes = one_hot_labels_train.shape[1]\n",
        "\n",
        "# Transform labels\n",
        "y_train_reg = np.copy(one_hot_labels_train)\n",
        "y_train_reg[y_train_reg == 0] = -1\n",
        "\n",
        "\n",
        "# x = 60000 X 785\n",
        "# y = 785 X 10\n",
        "\n",
        "# Calculate the optimal parameters directly using the normal equation\n",
        "def linear_reg_weights (x, y):\n",
        "  beta = np.linalg.pinv(x.T @ x ) @ x.T @ y\n",
        "  return beta\n",
        "\n",
        "def activation (x, beta):\n",
        "  y_hat = x @ beta\n",
        "  return y_hat\n",
        "\n",
        "def multiclass_predict(x, beta):\n",
        "    y_hat = activation(x, beta)\n",
        "    prediction =  np.argmax(y_hat, axis=1)\n",
        "    return prediction\n",
        "\n",
        "def least_square_loss(y, y_hat):\n",
        "    loss = np.mean((y - y_hat) ** 2, axis=0)\n",
        "    return loss\n",
        "\n",
        "def accuracy(y_pred, y_true):\n",
        "    correctly_predicted = np.sum(np.argmax(y_pred, axis=1) == np.argmax(y_true, axis=1))\n",
        "    acc = (100.0 * correctly_predicted) / y_pred.shape[0]\n",
        "    return acc\n",
        "\n",
        "start_time = time.time() # Record the start time\n",
        "\n",
        "weights = linear_reg_weights(X_train_flattened, y_train_reg )\n",
        "y_hat_train = activation(X_train_flattened, weights)\n",
        "y_hat_test = activation(X_test_flattened, weights)\n",
        "\n",
        "end_time = time.time() # Record the end time\n",
        "elapsed_time = end_time - start_time # Calculate the elapsed time\n",
        "\n",
        "# E_in = least_square_loss(one_hot_labels_train, y_hat_train)\n",
        "# E_out = least_square_loss(one_hot_labels_test, y_hat_test)\n",
        "\n",
        "print (\"Training loss (least squares) : \" ,least_square_loss(one_hot_labels_train, y_hat_train))\n",
        "print (\"Test loss (least squares) : : \",least_square_loss(one_hot_labels_test, y_hat_test))\n",
        "print (\"Training accuracy : \" ,accuracy(y_hat_train , one_hot_labels_train))\n",
        "print (\"Test accuracy : \",accuracy(y_hat_test , one_hot_labels_test))\n",
        "\n",
        "print(f\"\\nElapsed time: {elapsed_time:.2f} seconds\") # Print the elapsed time\n"
      ],
      "metadata": {
        "colab": {
          "base_uri": "https://localhost:8080/"
        },
        "id": "UiGwWNZ-MG7Y",
        "outputId": "f00b4d10-6fe1-4c49-842b-5eec1d02f70c"
      },
      "execution_count": null,
      "outputs": [
        {
          "output_type": "stream",
          "name": "stdout",
          "text": [
            "Training loss (least squares) :  [0.90133333 0.88791667 0.89961667 0.89821667 0.90136667 0.9104\n",
            " 0.90141667 0.89603333 0.9024     0.9013    ]\n",
            "Test loss (least squares) : :  [0.89875872 0.89086336 0.88922357 0.90377525 0.89016972 0.91792128\n",
            " 0.91926435 0.89697912 0.93451669 0.90935479]\n",
            "Training accuracy :  85.95333333333333\n",
            "Test accuracy :  85.13\n",
            "\n",
            "Elapsed time: 10.51 seconds\n"
          ]
        }
      ]
    },
    {
      "cell_type": "markdown",
      "source": [],
      "metadata": {
        "id": "9vSS854e2QtJ"
      }
    },
    {
      "cell_type": "markdown",
      "source": [
        "##**Evaluation 1: Present confusion matrix for multi-class classification**"
      ],
      "metadata": {
        "id": "KkNigKILxoHE"
      }
    },
    {
      "cell_type": "code",
      "source": [
        "y_pred_train = multiclass_predict(X_train_flattened, weights)\n",
        "y_pred_test = multiclass_predict(X_test_flattened, weights)\n",
        "y_true_test = labels_test\n",
        "\n",
        "# Create confusion matrix\n",
        "multi_confusion_matrix(y_true_test, y_pred_test, class_labels=['Class 0', 'Class 1', 'Class 2', 'Class 3', 'Class 4', 'Class 5', 'Class 6', 'Class 7', 'Class 8', 'Class 9'] , title = \"Test Confusion Matrix (Counts) - Linear Regression\")\n"
      ],
      "metadata": {
        "colab": {
          "base_uri": "https://localhost:8080/",
          "height": 585
        },
        "id": "22b8Zaxjxm2i",
        "outputId": "ef03e892-fcf9-4e3f-b99e-acf24e8a1436"
      },
      "execution_count": null,
      "outputs": [
        {
          "output_type": "display_data",
          "data": {
            "text/plain": [
              "<Figure size 1800x600 with 2 Axes>"
            ],
            "image/png": "[encoded data removed]"
          },
          "metadata": {}
        }
      ]
    },
    {
      "cell_type": "markdown",
      "source": [
        "##**Evaluation 2: present confusion matrix for each digit using multi-class method**\n",
        "\n",
        "\n"
      ],
      "metadata": {
        "id": "tg54ga6drPo6"
      }
    },
    {
      "cell_type": "code",
      "source": [
        "# Transform to y_pred binary matrix\n",
        "num_samples = len(y_pred_test)\n",
        "num_classes = 10\n",
        "\n",
        "y_pred_one_hot = np.zeros((num_samples, num_classes))\n",
        "y_pred_one_hot[np.arange(num_samples), y_pred_test] = 1\n",
        "\n",
        "y_true_one_hot = one_hot_labels_test\n",
        "\n",
        "# Create confusion matrix per digit\n",
        "digit_confusion_matrix(y_true_one_hot, y_pred_one_hot)"
      ],
      "metadata": {
        "colab": {
          "base_uri": "https://localhost:8080/"
        },
        "id": "DpcHiE3FdE5o",
        "outputId": "3711167e-281f-4dec-ee18-cb4e08f760ba"
      },
      "execution_count": null,
      "outputs": [
        {
          "output_type": "stream",
          "name": "stdout",
          "text": [
            "\n",
            "Digit 0: Acc=98.54%, TPR=95.12%, TNR=98.91%\n",
            "[[8919   98]\n",
            " [  48  935]]\n",
            "\n",
            "Digit 1: Acc=97.00%, TPR=97.31%, TNR=96.96%\n",
            "[[8579  269]\n",
            " [  31 1121]]\n",
            "\n",
            "Digit 2: Acc=97.22%, TPR=80.66%, TNR=98.99%\n",
            "[[8942   91]\n",
            " [ 187  780]]\n",
            "\n",
            "Digit 3: Acc=96.39%, TPR=83.66%, TNR=97.86%\n",
            "[[8774  192]\n",
            " [ 169  865]]\n",
            "\n",
            "Digit 4: Acc=96.93%, TPR=87.97%, TNR=97.82%\n",
            "[[8896  198]\n",
            " [ 109  797]]\n",
            "\n",
            "Digit 5: Acc=96.47%, TPR=72.79%, TNR=98.92%\n",
            "[[8965   98]\n",
            " [ 255  682]]\n",
            "\n",
            "Digit 6: Acc=98.10%, TPR=91.99%, TNR=98.75%\n",
            "[[8926  113]\n",
            " [  77  884]]\n",
            "\n",
            "Digit 7: Acc=97.24%, TPR=85.97%, TNR=98.57%\n",
            "[[8817  128]\n",
            " [ 148  907]]\n",
            "\n",
            "Digit 8: Acc=96.01%, TPR=72.24%, TNR=98.56%\n",
            "[[8901  130]\n",
            " [ 269  700]]\n",
            "\n",
            "Digit 9: Acc=96.36%, TPR=81.27%, TNR=98.10%\n",
            "[[8794  170]\n",
            " [ 194  842]]\n"
          ]
        }
      ]
    },
    {
      "cell_type": "markdown",
      "source": [
        "##**Evaluation 3: present confusion matrix for each digit using binary-class method**"
      ],
      "metadata": {
        "id": "rnbEQ-7bpfBA"
      }
    },
    {
      "cell_type": "code",
      "source": [
        "# binary prediction of linear regression for each digit separately\n",
        "\n",
        "def binary_predict(y_hat):\n",
        "    # Apply the condition: 1 if greater than or equal to 0, else -1\n",
        "    prediction = (y_hat > 0) * 1\n",
        "    return prediction\n",
        "\n",
        "y_pred_one_hot =  binary_predict(y_hat_test)\n",
        "y_true_one_hot = one_hot_labels_test\n",
        "\n",
        "# Create confusion matrix per digit\n",
        "digit_confusion_matrix(y_true_one_hot, y_pred_one_hot)"
      ],
      "metadata": {
        "colab": {
          "base_uri": "https://localhost:8080/"
        },
        "id": "I8ckRqYSpiJO",
        "outputId": "af4bd1e4-da42-4bfd-f07f-fffd97be556e"
      },
      "execution_count": null,
      "outputs": [
        {
          "output_type": "stream",
          "name": "stdout",
          "text": [
            "\n",
            "Digit 0: Acc=98.38%, TPR=86.98%, TNR=99.62%\n",
            "[[8983   34]\n",
            " [ 128  855]]\n",
            "\n",
            "Digit 1: Acc=98.07%, TPR=91.41%, TNR=98.94%\n",
            "[[8754   94]\n",
            " [  99 1053]]\n",
            "\n",
            "Digit 2: Acc=96.29%, TPR=67.11%, TNR=99.41%\n",
            "[[8980   53]\n",
            " [ 318  649]]\n",
            "\n",
            "Digit 3: Acc=95.55%, TPR=61.41%, TNR=99.49%\n",
            "[[8920   46]\n",
            " [ 399  635]]\n",
            "\n",
            "Digit 4: Acc=96.91%, TPR=70.97%, TNR=99.49%\n",
            "[[9048   46]\n",
            " [ 263  643]]\n",
            "\n",
            "Digit 5: Acc=94.32%, TPR=44.82%, TNR=99.44%\n",
            "[[9012   51]\n",
            " [ 517  420]]\n",
            "\n",
            "Digit 6: Acc=97.53%, TPR=79.92%, TNR=99.40%\n",
            "[[8985   54]\n",
            " [ 193  768]]\n",
            "\n",
            "Digit 7: Acc=96.72%, TPR=72.51%, TNR=99.58%\n",
            "[[8907   38]\n",
            " [ 290  765]]\n",
            "\n",
            "Digit 8: Acc=94.63%, TPR=48.71%, TNR=99.56%\n",
            "[[8991   40]\n",
            " [ 497  472]]\n",
            "\n",
            "Digit 9: Acc=94.43%, TPR=54.05%, TNR=99.10%\n",
            "[[8883   81]\n",
            " [ 476  560]]\n"
          ]
        }
      ]
    },
    {
      "cell_type": "markdown",
      "source": [
        "## Results and discussion\n",
        "\n",
        "**Model evaluation of the linear regression:**\n",
        "\n",
        "The performance of the linear model for multiple class classification is reasonable and very similar to the perceptron model but not as good as  multiple logistic regression classifier (softmax regression).\n",
        "\n",
        "Training accuracy :  85.95\n",
        "Test accuracy :  85.13\n",
        "\n",
        "It can be seen that there is no overfitting since the errors on the training data are similar to those of the test.\n",
        "\n",
        "Training loss (least squares) :\n",
        " [0.901 0.888 0.899 0.898 0.901 0.9104 0.901 0.896 0.903 0.901]\n",
        "\n",
        "Test loss (least squares) :\n",
        "[0.899 0.891 0.889 0.904 0.890 0.918 0.919 0.897 0.935 0.909]\n",
        "\n",
        "First we calculate the confusion matrix for the multiple classification. It indicates that the model is confused in predicting some digits with other digits to a significantly higher degree than the perceptron model and the multiple logistic regression.The values ​​below and above the diagonal are relatively higher.\n",
        "\n",
        "Second we calculate based on the multiple classification matrics evaluation for each of the digits. The accuracy index (ACC) ,sesitivity (TPR) and selectivity (TNR) level of the test data are very high and and for the most digits are above 95%.\n",
        "The digits for which the model worked less well compared to the others are: 2,3,9,4 with a selectivity (TPR) level of around  80%-85% and 5,8 with a TPR of around 70%. It is possible that if we had increased the iterations in the training the value would have improved.\n",
        "\n",
        "Third we calculate based on the binary classification matrics evaluation for each of the digits.It seems that the multiple classification is more successful than the binary classification based on the linear regression. For the binary classification, significantly lower TPR indices are obtained in the harder-to-classify digits.\n",
        "\n",
        "**Overall conclusions:**\n",
        "\n",
        "The three models were run on the same data for training and testing, so their performance is comparable. The size of the training set is 60,000 and the test set is 10,000.\n",
        "Below is the comparison,\n",
        "\n",
        "\n",
        "Perceptron results:\n",
        "*   Training accuracy :  85.40 , Test accuracy :  85.4 , Elapsed time: 889 seconds\n",
        "*   In an iterative method, we save the best solution that is reached so far (Pocket algorithm) because there is no analytical solution that is the optimal one. There are many solutions, the solution depends on the selection of the points that are used to correct the weights in training. Can be very expensive to calculate to get to sufficient classification.\n",
        "\n",
        "Linear regression results:\n",
        "*   Training accuracy :  85.95 , Test accuracy :  85.13 ,  Elapsed time: 6.23 seconds\n",
        "*   The use of the linear regression model is not particularly suitable in this case because the model is suitable for cases where the target variable takes continuous values, but sometimes the model performs well. I think that this can be expressed in the scattering of points in two centers, in area 1 and in area (-1) and not along the entire line, which can cause problems or hypersensitivity in finding the linear line that is the solution. The advantage of the model lies in the simplicity of complexity as the solution to the least squares problem is analytical and unique in the case where the matrix (X^tX) is invertible.\n",
        "*   The model gave very similar performance to the performance of the Perceptron model\n",
        "\n",
        "\n",
        "Softmax regression results:\n",
        "*   Training Accuracy: 90.48% , Test Accuracy: 90.38%, Elapsed time: 83.43 seconds\n",
        "*   In an iterative method, an optimal solution is reached using the gradient descent method. The approximation to the analytical solution is good. Convergence is fast. The advantage is that for each example, a series of probabilities is obtained for a correct prediction for each digit (class). This makes it possible to give not only a prediction but also an estimate of the chance.\n",
        "*   The Softmax, compared to the Perceptron and Linear regression, showed less difficulty in distinguishing between similar digits. The performance for the more problematic digits to predict, gave better results and is therefore preferred. Apparently, the reason is that in Softmax the estimation of the parameters is done at once for all the digits (purely multiple classes) unlike in Perceptron where the model is trained for each digit separately by One-vs-All method: Train multiple binary classifiers, each one trained to distinguish between one class and the rest of the classes. Therefor, in the Perceptron and Linear regression models there are fewer parameters to optimized in each model compared to Softmax.\n",
        "*   This model gave the best prediction performance and is the preferred one in this case\n",
        "\n",
        "\n"
      ],
      "metadata": {
        "id": "nw_1hpL8db8M"
      }
    }
  ],
  "metadata": {
    "colab": {
      "provenance": [],
      "toc_visible": true,
      "include_colab_link": true
    },
    "kernelspec": {
      "display_name": "Python 3",
      "name": "python3"
    },
    "language_info": {
      "name": "python"
    }
  },
  "nbformat": 4,
  "nbformat_minor": 0
}